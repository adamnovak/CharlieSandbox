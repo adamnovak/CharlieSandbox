{
 "cells": [
  {
   "cell_type": "markdown",
   "metadata": {},
   "source": [
    "# Generate a data table with data from Gen3 for use with the IGV in Terra\n",
    "\n",
    "The [Integrative Genomics Viewer](http://software.broadinstitute.org/software/igv/) is an interactive visualization tool for large genomic files. The tool is available within Terra. This notebook leads you through some data wrangling steps to generate a data table that works with the [IGV tool in Terra](https://support.terra.bio/hc/en-us/articles/360029654831-Viewing-IGV-tracks-of-BAM-files-in-your-workspace-data) using data imported from Gen3. \n",
    "\n",
    "The final data table generated will look like this:\n",
    "\n",
    "| IGV_Viewer_id | crai           | cram           | \n",
    "|---------------|----------------|----------------|\n",
    "| 0         | NWD1.crai |NWD1.cram  | \n",
    "| 1         | NWD2.crai  | NWD2.cram  | \n",
    "\n",
    "\n",
    "Outline of steps in this notebook:\n",
    "1. Transfer a project with your samples of interest from Gen3 to your Terra workspace using these [instructions](). The genomic data that arrives in your data tables are DRS links. \n",
    "2. Use DRS tooling from [terra_notebook_utils package](https://support.terra.bio/hc/en-us/articles/360039330211) to physically copy the genomic data of interest to your Terra workspace. In this notebook, you will provide the TOPMed NWD sequencing ID to find the CRAM and CRAI files of interest. The IGV tool in Terra cannot resolve the data through drs:// URLS. **Note:** you will be paying storage costs for any data you copy to your workspace. You may want to delete these files when you are finished viewing them. \n",
    "3. Generate a new data table, IGViwer_id, where each row represents an individual and columns contain links to the data in your workspace (gs://*.cram). \n",
    "4. Navigate to the data section of your workspace and open the IGViewer table. Follow the instructions in step 1 of this [document](https://support.terra.bio/hc/en-us/articles/360029654831-Viewing-IGV-tracks-of-BAM-files-in-your-workspace-data).\n",
    "5. You may want to eventually delete the CRAM and CRAI files to avoid paying long-term storage costs. "
   ]
  },
  {
   "cell_type": "markdown",
   "metadata": {},
   "source": [
    "Install DRS packages"
   ]
  },
  {
   "cell_type": "code",
   "execution_count": null,
   "metadata": {
    "scrolled": true
   },
   "outputs": [],
   "source": [
    "%pip install --upgrade --no-cache-dir terra-notebook-utils\n",
    "%pip install --upgrade --no-cache-dir gs-chunked-io"
   ]
  },
  {
   "cell_type": "markdown",
   "metadata": {},
   "source": [
    "Import the tooling and define some functions"
   ]
  },
  {
   "cell_type": "code",
   "execution_count": null,
   "metadata": {},
   "outputs": [],
   "source": [
    "import os\n",
    "import terra_notebook_utils as tnu\n",
    "from firecloud import fiss\n",
    "\n",
    "def get_drs_urls(table_name):\n",
    "    \"\"\"\n",
    "    Return a dictionary containing drs urls and file names, using sample as the key.                      \n",
    "    \"\"\"\n",
    "    info = dict()\n",
    "    for row in tnu.table.list_entities(table_name):                                                       \n",
    "        drs_url = row['attributes']['pfb:object_id']\n",
    "        file_name = row['attributes']['pfb:file_name']\n",
    "        # Assume file names have the format `NWD244548.b38.irc.v1.cram`\n",
    "        sample = file_name.split(\".\", 1)[0]\n",
    "        info[sample] = dict(file_name=file_name, drs_url=drs_url)                                         \n",
    "    return info\n",
    "\n",
    "def upload_data_table(tsv):         \n",
    "    billing_project = os.environ['GOOGLE_PROJECT']\n",
    "    workspace = os.environ['WORKSPACE_NAME']\n",
    "    resp = fiss.fapi.upload_entities(billing_project, workspace, tsv, model=\"flexible\")\n",
    "    resp.raise_for_status()"
   ]
  },
  {
   "cell_type": "code",
   "execution_count": null,
   "metadata": {},
   "outputs": [],
   "source": [
    "crams = get_drs_urls(\"submitted_aligned_reads\")                                                           \n",
    "crais = get_drs_urls(\"aligned_reads_index\")"
   ]
  },
  {
   "cell_type": "code",
   "execution_count": null,
   "metadata": {},
   "outputs": [],
   "source": [
    "print(crams[\"NWD596479\"])\n",
    "print(crais[\"NWD596479\"])"
   ]
  },
  {
   "cell_type": "markdown",
   "metadata": {},
   "source": [
    "Check that `table.tsv` exists in the `Files` data directory"
   ]
  },
  {
   "cell_type": "code",
   "execution_count": null,
   "metadata": {},
   "outputs": [],
   "source": [
    "!ls"
   ]
  },
  {
   "cell_type": "markdown",
   "metadata": {},
   "source": [
    "Extract samples from input table located in the `Files` Data directory"
   ]
  },
  {
   "cell_type": "code",
   "execution_count": null,
   "metadata": {
    "code_folding": []
   },
   "outputs": [],
   "source": [
    "import os \n",
    "from collections import defaultdict\n",
    "BILLING_PROJECT_ID = os.environ['GOOGLE_PROJECT']\n",
    "WORKSPACE = os.environ['WORKSPACE_NAME']\n",
    "bucket = os.environ['WORKSPACE_BUCKET']\n",
    "\n",
    "!gsutil cp $bucket/table.tsv .\n",
    "\n",
    "samples = defaultdict(list)\n",
    "with open(\"table.tsv\", 'r') as test_table:\n",
    "    for line in test_table:\n",
    "        sample_name = line.split('\\t')[0]\n",
    "        var_id = line.split('\\t')[1]\n",
    "        var_range = line.split('\\t')[2].strip()\n",
    "        samples[sample_name].append([var_id,var_range])\n"
   ]
  },
  {
   "cell_type": "markdown",
   "metadata": {},
   "source": [
    "Check that this worked"
   ]
  },
  {
   "cell_type": "code",
   "execution_count": null,
   "metadata": {},
   "outputs": [],
   "source": [
    "print(samples.keys())\n",
    "print(samples[list(samples.keys())[0]])"
   ]
  },
  {
   "cell_type": "markdown",
   "metadata": {},
   "source": [
    "Copy the CRAM and CRAI files for the selected samples to the Terra workspace bucket. "
   ]
  },
  {
   "cell_type": "code",
   "execution_count": null,
   "metadata": {},
   "outputs": [],
   "source": [
    "bucket = os.environ['WORKSPACE_BUCKET']\n",
    "pfx = \"test-crai-cram\"\n",
    "tsv_data = \"\\t\".join([\"cram_crai_id\", \"inputs\", \"output\"])\n",
    "for sample in samples.keys():\n",
    "    cram = crams[sample]\n",
    "    crai = crais[sample]\n",
    "    tnu.drs.copy(cram['drs_url'], f\"{bucket}/{pfx}/{cram['pfb:file_name']}\")\n",
    "    tnu.drs.copy(crai['drs_url'], f\"{bucket}/{pfx}/{crai['pfb:file_name']}\")"
   ]
  },
  {
   "cell_type": "markdown",
   "metadata": {},
   "source": [
    "Create a table called \"igv_table.tsv\" that sets up the igv wdl input with all CRAM and CRAI file URLs that were copied to the workspace"
   ]
  },
  {
   "cell_type": "code",
   "execution_count": null,
   "metadata": {},
   "outputs": [],
   "source": [
    "with open (\"igv_table.tsv\", 'w') as igv_table:\n",
    "    for sample in samples.keys():\n",
    "        for sample_var in samples[sample]:\n",
    "            var_id = sample_var[0].strip('\\n')\n",
    "            var_range = sample_var[1].strip('\\n')\n",
    "            sample_cram = crams[sample]\n",
    "            sample_crai = crais[sample]\n",
    "            igv_table.write(f\"{sample}\\t\" +\n",
    "                            f\"{var_id}\\t\" +\n",
    "                            f\"{var_range}\\t\" +\n",
    "                            \"{}/{}/{}\\t\".format(bucket,pfx,sample_cram['pfb:file_name'].strip('\\n')) +\n",
    "                            \"{}/{}/{}\\n\".format(bucket,pfx,sample_crai['pfb:file_name'].strip('\\n')))\n",
    "BILLING_PROJECT_ID = os.environ['GOOGLE_PROJECT']\n",
    "WORKSPACE = os.environ['WORKSPACE_NAME']\n",
    "bucket = os.environ['WORKSPACE_BUCKET']\n",
    "\n",
    "!gsutil cp igv_table.tsv $bucket/"
   ]
  },
  {
   "cell_type": "markdown",
   "metadata": {},
   "source": [
    "Check that `igv_table.tsv` exists in the `Files` data directory"
   ]
  },
  {
   "cell_type": "code",
   "execution_count": null,
   "metadata": {},
   "outputs": [],
   "source": [
    "!ls\n",
    "!pwd"
   ]
  },
  {
   "cell_type": "markdown",
   "metadata": {},
   "source": [
    "When you are done viewing, delete the files you copied so you avoid paying long-term storage costs. If you delete the data table, this doesn't actually delete the files in your bucket. You will need to navigate to the \"file\" section of your workspace and individually delete the files in the \"folders\" labeled \"cram_crai\".\n",
    "\n",
    "You can also delete files using `! gsutil rm` with the path to the files you want to delete. "
   ]
  }
 ],
 "metadata": {
  "kernelspec": {
   "display_name": "Python 3",
   "language": "python",
   "name": "python3"
  },
  "language_info": {
   "codemirror_mode": {
    "name": "ipython",
    "version": 3
   },
   "file_extension": ".py",
   "mimetype": "text/x-python",
   "name": "python",
   "nbconvert_exporter": "python",
   "pygments_lexer": "ipython3",
   "version": "3.7.9"
  },
  "toc": {
   "base_numbering": 1,
   "nav_menu": {},
   "number_sections": true,
   "sideBar": true,
   "skip_h1_title": false,
   "title_cell": "Table of Contents",
   "title_sidebar": "Contents",
   "toc_cell": false,
   "toc_position": {},
   "toc_section_display": true,
   "toc_window_display": false
  }
 },
 "nbformat": 4,
 "nbformat_minor": 2
}
